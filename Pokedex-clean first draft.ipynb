{
 "cells": [
  {
   "cell_type": "code",
   "execution_count": 1,
   "metadata": {},
   "outputs": [],
   "source": [
    "# This project will be open-ended to cater to your own person creative workflow.\n",
    "\n",
    "# Using the requests package in Python, connect to the PokeAPI at https://pokeapi.co/ to build an\n",
    "# encyclopedia of Pokemon i.e. a Pokedex\n",
    "\n",
    "# Your objective: Accumulate a Pokedex of 20 different Pokemon in which each entry specifies the Pokemon's\n",
    "# height, weight and abilities and type (Fire, Water, Flying, Mystic, etc.)"
   ]
  },
  {
   "cell_type": "code",
   "execution_count": null,
   "metadata": {},
   "outputs": [],
   "source": [
    "import requests, pprint\n",
    "from IPython.display import clear_output as co\n",
    "\n",
    "class Pokemon:    \n",
    "    def _init_(self, name=None, abilities=None, type=None, height=None, weight=None):\n",
    "        self.name = name\n",
    "        if abilities is None:\n",
    "            self.abilities =[]\n",
    "        else:\n",
    "            self.abilities = abilities\n",
    "        if types is None:\n",
    "            self.types = []\n",
    "        self.height = height\n",
    "        self.weight = weight\n",
    "        self._all.append(self)\n",
    "        \n",
    "    def from_dict(self, data):\n",
    "        for field in {'name', 'abilities', 'type', 'height', 'weight'}:\n",
    "            if field in data:\n",
    "                setattr(self, field, data[field])\n",
    "        \n",
    "    \n",
    "                \n",
    "    def __repr__(self):\n",
    "        return f'<Pokemon: {self.name}>'\n",
    "    \n",
    "    def __str__(self):\n",
    "        return f'{self.name}'\n",
    "\n",
    "class Pokedex:\n",
    "    #keep track of a list of pokemon\n",
    "    _list=[]\n",
    "\n",
    "    pass\n",
    "    \n",
    "    @classmethod\n",
    "    def instructions(self):\n",
    "        print(\"\"\"Type 'show' to view Pokedex.\n",
    "Type 'quit' to exit the Pokedex.\n",
    "Type 'sort' to view a categorized version of your Pokedex.\"\"\")\n",
    "        \n",
    "    @classmethod\n",
    "    def populate(self, name):\n",
    "        # prompt for some input to add in a Pokemon's name.\n",
    "        # Check if the Pokemon we want to add has already been found in the Pokedex\n",
    "        if pokedex._list:\n",
    "            for p in pokedex._list:\n",
    "                if name.title() == p.name:\n",
    "                    input(\"That Pokemon already exists in your Pokedex. Try another one.\")\n",
    "                    return\n",
    "        try:\n",
    "            # make an api call to pokeai.co\n",
    "            print(\"Pleasee wait while we populate the pokedex...\")\n",
    "            res = requests.get(f'https://pokeapi.co/api/v2//pokemon/{name.lower()}').json()\n",
    "            p = Pokemon()\n",
    "                \n",
    "        # Build the dictionary to create the new Pokemon\n",
    "\n",
    "    \n",
    "            data={\n",
    "                'name': res ['name'].title(),\n",
    "                'abilities': [a['abilitiy']['name'].title() for a in res['abilities']],\n",
    "                'types': [t['type']['name'].title() for t in res['types']],\n",
    "                'height': res['height'],\n",
    "                'weight': res['weight']\n",
    "            }\n",
    "            print(\"after data dictionary is created\")\n",
    "            p.from_dict(data)\n",
    "            print(\"after pokemon is created\")\n",
    "            # Build the dictionary to create the new Pokemon\n",
    "            \n",
    "            # Add it to the list of Pokemon\n",
    "            pokedex._list.append(P)\n",
    "        except:\n",
    "            #if the above operation fails, print an error message\n",
    "            input(\"There was an error populating your Pokedex. Try again. \")\n",
    "              \n",
    "    @classmethod\n",
    "    def show(self):\n",
    "        if pokedex._list:\n",
    "            for i in pokedex._list:\n",
    "                print(i)\n",
    "        \n",
    "    # Connect to http://pokeapi.com/...\n",
    "            \n",
    "            \n",
    "\n",
    "    @classmethod\n",
    "    def run(self):\n",
    "        done = False\n",
    "        input(\"Welcome to python Pokedex Press any key to continue.\")\n",
    "        while not done:\n",
    "            co()\n",
    "            self.instructions()\n",
    "            name = input('Type in a name of a Pokemon to populate your Pokedex. Type \"quit\" to exit program. ').lower()\n",
    "            if name == 'quit':\n",
    "                done=True\n",
    "                break\n",
    "            elif name== 'show':\n",
    "                Pokedex.show()\n",
    "                input('Press any key tocontinue')\n",
    "            elif name =='sort':\n",
    "                pass\n",
    "            else:\n",
    "                 Pokedex.populate(name)                         \n",
    "                         \n",
    "                \n",
    "    @classmethod\n",
    "    def standardize(self):\n",
    "        pass\n",
    "        # Build a Python dictionary that categorizes all Pokemon into any and ALL types in which they belong \n",
    "        \n",
    "        # If a Pokemon has multiple types\n",
    "\n",
    "        # Create a Pokemon dictionary for every type they belong to. \n",
    "Pokedex.run()"
   ]
  },
  {
   "cell_type": "code",
   "execution_count": 4,
   "metadata": {},
   "outputs": [
    {
     "ename": "NameError",
     "evalue": "name 'Pokemon' is not defined",
     "output_type": "error",
     "traceback": [
      "\u001b[1;31m---------------------------------------------------------------------------\u001b[0m",
      "\u001b[1;31mNameError\u001b[0m                                 Traceback (most recent call last)",
      "\u001b[1;32m<ipython-input-4-bb54cf76be3d>\u001b[0m in \u001b[0;36m<module>\u001b[1;34m\u001b[0m\n\u001b[1;32m----> 1\u001b[1;33m \u001b[0mp1\u001b[0m \u001b[1;33m=\u001b[0m \u001b[0mPokemon\u001b[0m\u001b[1;33m(\u001b[0m\u001b[1;33m)\u001b[0m\u001b[1;33m\u001b[0m\u001b[1;33m\u001b[0m\u001b[0m\n\u001b[0m\u001b[0;32m      2\u001b[0m \u001b[1;33m\u001b[0m\u001b[0m\n\u001b[0;32m      3\u001b[0m data = {\n\u001b[0;32m      4\u001b[0m     \u001b[1;34m'name'\u001b[0m\u001b[1;33m:\u001b[0m \u001b[1;34m'Charizard'\u001b[0m\u001b[1;33m,\u001b[0m\u001b[1;33m\u001b[0m\u001b[1;33m\u001b[0m\u001b[0m\n\u001b[0;32m      5\u001b[0m     \u001b[1;34m'abilities'\u001b[0m\u001b[1;33m:\u001b[0m \u001b[1;33m[\u001b[0m\u001b[1;34m'fire-breath'\u001b[0m\u001b[1;33m,\u001b[0m \u001b[1;34m'stomp'\u001b[0m\u001b[1;33m,\u001b[0m\u001b[1;33m]\u001b[0m\u001b[1;33m,\u001b[0m\u001b[1;33m\u001b[0m\u001b[1;33m\u001b[0m\u001b[0m\n",
      "\u001b[1;31mNameError\u001b[0m: name 'Pokemon' is not defined"
     ]
    }
   ],
   "source": [
    "p1 = Pokemon()\n",
    "\n",
    "data = {\n",
    "    'name': 'Charizard',\n",
    "    'abilities': ['fire-breath', 'stomp',],\n",
    "    'types':['fire', 'flying'],\n",
    "    'height':65,\n",
    "    'weight':50\n",
    "}\n",
    "                  \n",
    "pl.from_dict(data)"
   ]
  },
  {
   "cell_type": "code",
   "execution_count": 5,
   "metadata": {},
   "outputs": [
    {
     "ename": "NameError",
     "evalue": "name 'pokemon' is not defined",
     "output_type": "error",
     "traceback": [
      "\u001b[1;31m---------------------------------------------------------------------------\u001b[0m",
      "\u001b[1;31mNameError\u001b[0m                                 Traceback (most recent call last)",
      "\u001b[1;32m<ipython-input-5-b5310e92de0e>\u001b[0m in \u001b[0;36m<module>\u001b[1;34m\u001b[0m\n\u001b[1;32m----> 1\u001b[1;33m \u001b[0mp2\u001b[0m\u001b[1;33m=\u001b[0m\u001b[0mpokemon\u001b[0m\u001b[1;33m(\u001b[0m\u001b[1;34m'Mewtwo'\u001b[0m\u001b[1;33m,\u001b[0m \u001b[1;33m[\u001b[0m\u001b[1;34m'physical attack'\u001b[0m\u001b[1;33m]\u001b[0m\u001b[1;33m,\u001b[0m \u001b[1;33m[\u001b[0m\u001b[1;34m'Mystic'\u001b[0m\u001b[1;33m,\u001b[0m \u001b[1;36m80\u001b[0m\u001b[1;33m,\u001b[0m \u001b[1;36m100\u001b[0m\u001b[1;33m]\u001b[0m\u001b[1;33m)\u001b[0m\u001b[1;33m\u001b[0m\u001b[1;33m\u001b[0m\u001b[0m\n\u001b[0m",
      "\u001b[1;31mNameError\u001b[0m: name 'pokemon' is not defined"
     ]
    }
   ],
   "source": [
    "p2=Pokemon('Mewtwo', ['physical attack'], ['Mystic', 80, 100])"
   ]
  },
  {
   "cell_type": "code",
   "execution_count": 1,
   "metadata": {},
   "outputs": [
    {
     "ename": "NameError",
     "evalue": "name 'p1' is not defined",
     "output_type": "error",
     "traceback": [
      "\u001b[1;31m---------------------------------------------------------------------------\u001b[0m",
      "\u001b[1;31mNameError\u001b[0m                                 Traceback (most recent call last)",
      "\u001b[1;32m<ipython-input-1-3489eb50729b>\u001b[0m in \u001b[0;36m<module>\u001b[1;34m\u001b[0m\n\u001b[1;32m----> 1\u001b[1;33m \u001b[0mp1\u001b[0m\u001b[1;33m.\u001b[0m\u001b[0m_dict_\u001b[0m\u001b[1;33m\u001b[0m\u001b[1;33m\u001b[0m\u001b[0m\n\u001b[0m",
      "\u001b[1;31mNameError\u001b[0m: name 'p1' is not defined"
     ]
    }
   ],
   "source": [
    "p1._dict_"
   ]
  },
  {
   "cell_type": "code",
   "execution_count": 6,
   "metadata": {},
   "outputs": [
    {
     "ename": "NameError",
     "evalue": "name 'Pokemon' is not defined",
     "output_type": "error",
     "traceback": [
      "\u001b[1;31m---------------------------------------------------------------------------\u001b[0m",
      "\u001b[1;31mNameError\u001b[0m                                 Traceback (most recent call last)",
      "\u001b[1;32m<ipython-input-6-72e37bb48157>\u001b[0m in \u001b[0;36m<module>\u001b[1;34m\u001b[0m\n\u001b[1;32m----> 1\u001b[1;33m \u001b[0mPokemon\u001b[0m\u001b[1;33m.\u001b[0m\u001b[0m_all\u001b[0m\u001b[1;33m\u001b[0m\u001b[1;33m\u001b[0m\u001b[0m\n\u001b[0m",
      "\u001b[1;31mNameError\u001b[0m: name 'Pokemon' is not defined"
     ]
    }
   ],
   "source": [
    "Pokemon._all"
   ]
  },
  {
   "cell_type": "code",
   "execution_count": null,
   "metadata": {},
   "outputs": [],
   "source": []
  }
 ],
 "metadata": {
  "kernelspec": {
   "display_name": "Python 3",
   "language": "python",
   "name": "python3"
  },
  "language_info": {
   "codemirror_mode": {
    "name": "ipython",
    "version": 3
   },
   "file_extension": ".py",
   "mimetype": "text/x-python",
   "name": "python",
   "nbconvert_exporter": "python",
   "pygments_lexer": "ipython3",
   "version": "3.8.5"
  }
 },
 "nbformat": 4,
 "nbformat_minor": 5
}
